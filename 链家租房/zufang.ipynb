{
 "cells": [
  {
   "cell_type": "code",
   "execution_count": 1,
   "metadata": {
    "collapsed": true,
    "deletable": true,
    "editable": true
   },
   "outputs": [],
   "source": [
    "import pandas as pd\n",
    "import matplotlib.pyplot as plt"
   ]
  },
  {
   "cell_type": "code",
   "execution_count": 2,
   "metadata": {
    "collapsed": true,
    "deletable": true,
    "editable": true
   },
   "outputs": [],
   "source": [
    "datas = pd.read_csv('lianjia_zufang.csv')\n",
    "datas = datas[['链接', '价格', '面积']]\n",
    "\n",
    "datas.index = [url[7: 9] for url in datas['链接']]"
   ]
  },
  {
   "cell_type": "code",
   "execution_count": 3,
   "metadata": {
    "collapsed": false,
    "deletable": true,
    "editable": true
   },
   "outputs": [
    {
     "data": {
      "text/plain": [
       "(50453, 3)"
      ]
     },
     "execution_count": 3,
     "metadata": {},
     "output_type": "execute_result"
    }
   ],
   "source": [
    "datas.shape"
   ]
  },
  {
   "cell_type": "code",
   "execution_count": 4,
   "metadata": {
    "collapsed": false,
    "deletable": true,
    "editable": true
   },
   "outputs": [
    {
     "data": {
      "text/html": [
       "<div>\n",
       "<table border=\"1\" class=\"dataframe\">\n",
       "  <thead>\n",
       "    <tr style=\"text-align: right;\">\n",
       "      <th></th>\n",
       "      <th>链接</th>\n",
       "      <th>价格</th>\n",
       "      <th>面积</th>\n",
       "    </tr>\n",
       "  </thead>\n",
       "  <tbody>\n",
       "    <tr>\n",
       "      <th>bj</th>\n",
       "      <td>http://bj.lianjia.com/zufang/101101322952.html</td>\n",
       "      <td>3400.0</td>\n",
       "      <td>57.16平米</td>\n",
       "    </tr>\n",
       "    <tr>\n",
       "      <th>bj</th>\n",
       "      <td>http://bj.lianjia.com/zufang/101101321532.html</td>\n",
       "      <td>7100.0</td>\n",
       "      <td>104平米 (套内85平米)</td>\n",
       "    </tr>\n",
       "    <tr>\n",
       "      <th>bj</th>\n",
       "      <td>http://bj.lianjia.com/zufang/101101469142.html</td>\n",
       "      <td>4500.0</td>\n",
       "      <td>39平米 (套内29平米)</td>\n",
       "    </tr>\n",
       "    <tr>\n",
       "      <th>bj</th>\n",
       "      <td>http://bj.lianjia.com/zufang/101101380783.html</td>\n",
       "      <td>6800.0</td>\n",
       "      <td>100平米 (套内82平米)</td>\n",
       "    </tr>\n",
       "    <tr>\n",
       "      <th>bj</th>\n",
       "      <td>http://bj.lianjia.com/zufang/101101431664.html</td>\n",
       "      <td>4200.0</td>\n",
       "      <td>53平米 (套内41平米)</td>\n",
       "    </tr>\n",
       "  </tbody>\n",
       "</table>\n",
       "</div>"
      ],
      "text/plain": [
       "                                                链接      价格              面积\n",
       "bj  http://bj.lianjia.com/zufang/101101322952.html  3400.0         57.16平米\n",
       "bj  http://bj.lianjia.com/zufang/101101321532.html  7100.0  104平米 (套内85平米)\n",
       "bj  http://bj.lianjia.com/zufang/101101469142.html  4500.0   39平米 (套内29平米)\n",
       "bj  http://bj.lianjia.com/zufang/101101380783.html  6800.0  100平米 (套内82平米)\n",
       "bj  http://bj.lianjia.com/zufang/101101431664.html  4200.0   53平米 (套内41平米)"
      ]
     },
     "execution_count": 4,
     "metadata": {},
     "output_type": "execute_result"
    }
   ],
   "source": [
    "datas.head(5)"
   ]
  },
  {
   "cell_type": "code",
   "execution_count": 5,
   "metadata": {
    "collapsed": false,
    "deletable": true,
    "editable": true
   },
   "outputs": [
    {
     "data": {
      "text/html": [
       "<div>\n",
       "<table border=\"1\" class=\"dataframe\">\n",
       "  <thead>\n",
       "    <tr style=\"text-align: right;\">\n",
       "      <th></th>\n",
       "      <th></th>\n",
       "      <th>价格</th>\n",
       "    </tr>\n",
       "  </thead>\n",
       "  <tbody>\n",
       "    <tr>\n",
       "      <th rowspan=\"8\" valign=\"top\">bj</th>\n",
       "      <th>count</th>\n",
       "      <td>3056.000000</td>\n",
       "    </tr>\n",
       "    <tr>\n",
       "      <th>mean</th>\n",
       "      <td>7030.881545</td>\n",
       "    </tr>\n",
       "    <tr>\n",
       "      <th>std</th>\n",
       "      <td>4672.566530</td>\n",
       "    </tr>\n",
       "    <tr>\n",
       "      <th>min</th>\n",
       "      <td>1000.000000</td>\n",
       "    </tr>\n",
       "    <tr>\n",
       "      <th>25%</th>\n",
       "      <td>4300.000000</td>\n",
       "    </tr>\n",
       "    <tr>\n",
       "      <th>50%</th>\n",
       "      <td>5800.000000</td>\n",
       "    </tr>\n",
       "    <tr>\n",
       "      <th>75%</th>\n",
       "      <td>8000.000000</td>\n",
       "    </tr>\n",
       "    <tr>\n",
       "      <th>max</th>\n",
       "      <td>50000.000000</td>\n",
       "    </tr>\n",
       "    <tr>\n",
       "      <th rowspan=\"8\" valign=\"top\">cd</th>\n",
       "      <th>count</th>\n",
       "      <td>3000.000000</td>\n",
       "    </tr>\n",
       "    <tr>\n",
       "      <th>mean</th>\n",
       "      <td>2587.295333</td>\n",
       "    </tr>\n",
       "    <tr>\n",
       "      <th>std</th>\n",
       "      <td>1328.557994</td>\n",
       "    </tr>\n",
       "    <tr>\n",
       "      <th>min</th>\n",
       "      <td>400.000000</td>\n",
       "    </tr>\n",
       "    <tr>\n",
       "      <th>25%</th>\n",
       "      <td>1800.000000</td>\n",
       "    </tr>\n",
       "    <tr>\n",
       "      <th>50%</th>\n",
       "      <td>2300.000000</td>\n",
       "    </tr>\n",
       "    <tr>\n",
       "      <th>75%</th>\n",
       "      <td>3000.000000</td>\n",
       "    </tr>\n",
       "    <tr>\n",
       "      <th>max</th>\n",
       "      <td>18200.000000</td>\n",
       "    </tr>\n",
       "    <tr>\n",
       "      <th rowspan=\"8\" valign=\"top\">cq</th>\n",
       "      <th>count</th>\n",
       "      <td>2733.000000</td>\n",
       "    </tr>\n",
       "    <tr>\n",
       "      <th>mean</th>\n",
       "      <td>3347.038053</td>\n",
       "    </tr>\n",
       "    <tr>\n",
       "      <th>std</th>\n",
       "      <td>4460.218931</td>\n",
       "    </tr>\n",
       "    <tr>\n",
       "      <th>min</th>\n",
       "      <td>400.000000</td>\n",
       "    </tr>\n",
       "    <tr>\n",
       "      <th>25%</th>\n",
       "      <td>1800.000000</td>\n",
       "    </tr>\n",
       "    <tr>\n",
       "      <th>50%</th>\n",
       "      <td>2500.000000</td>\n",
       "    </tr>\n",
       "    <tr>\n",
       "      <th>75%</th>\n",
       "      <td>3500.000000</td>\n",
       "    </tr>\n",
       "    <tr>\n",
       "      <th>max</th>\n",
       "      <td>168000.000000</td>\n",
       "    </tr>\n",
       "    <tr>\n",
       "      <th rowspan=\"6\" valign=\"top\">cs</th>\n",
       "      <th>count</th>\n",
       "      <td>3000.000000</td>\n",
       "    </tr>\n",
       "    <tr>\n",
       "      <th>mean</th>\n",
       "      <td>2760.576667</td>\n",
       "    </tr>\n",
       "    <tr>\n",
       "      <th>std</th>\n",
       "      <td>2454.548208</td>\n",
       "    </tr>\n",
       "    <tr>\n",
       "      <th>min</th>\n",
       "      <td>700.000000</td>\n",
       "    </tr>\n",
       "    <tr>\n",
       "      <th>25%</th>\n",
       "      <td>1800.000000</td>\n",
       "    </tr>\n",
       "    <tr>\n",
       "      <th>50%</th>\n",
       "      <td>2400.000000</td>\n",
       "    </tr>\n",
       "    <tr>\n",
       "      <th>...</th>\n",
       "      <th>...</th>\n",
       "      <td>...</td>\n",
       "    </tr>\n",
       "    <tr>\n",
       "      <th rowspan=\"6\" valign=\"top\">xm</th>\n",
       "      <th>std</th>\n",
       "      <td>4255.989843</td>\n",
       "    </tr>\n",
       "    <tr>\n",
       "      <th>min</th>\n",
       "      <td>200.000000</td>\n",
       "    </tr>\n",
       "    <tr>\n",
       "      <th>25%</th>\n",
       "      <td>2300.000000</td>\n",
       "    </tr>\n",
       "    <tr>\n",
       "      <th>50%</th>\n",
       "      <td>3200.000000</td>\n",
       "    </tr>\n",
       "    <tr>\n",
       "      <th>75%</th>\n",
       "      <td>4800.000000</td>\n",
       "    </tr>\n",
       "    <tr>\n",
       "      <th>max</th>\n",
       "      <td>70000.000000</td>\n",
       "    </tr>\n",
       "    <tr>\n",
       "      <th rowspan=\"8\" valign=\"top\">yt</th>\n",
       "      <th>count</th>\n",
       "      <td>3000.000000</td>\n",
       "    </tr>\n",
       "    <tr>\n",
       "      <th>mean</th>\n",
       "      <td>1910.557667</td>\n",
       "    </tr>\n",
       "    <tr>\n",
       "      <th>std</th>\n",
       "      <td>1316.940390</td>\n",
       "    </tr>\n",
       "    <tr>\n",
       "      <th>min</th>\n",
       "      <td>300.000000</td>\n",
       "    </tr>\n",
       "    <tr>\n",
       "      <th>25%</th>\n",
       "      <td>1300.000000</td>\n",
       "    </tr>\n",
       "    <tr>\n",
       "      <th>50%</th>\n",
       "      <td>1600.000000</td>\n",
       "    </tr>\n",
       "    <tr>\n",
       "      <th>75%</th>\n",
       "      <td>2100.000000</td>\n",
       "    </tr>\n",
       "    <tr>\n",
       "      <th>max</th>\n",
       "      <td>25000.000000</td>\n",
       "    </tr>\n",
       "    <tr>\n",
       "      <th rowspan=\"8\" valign=\"top\">zh</th>\n",
       "      <th>count</th>\n",
       "      <td>307.000000</td>\n",
       "    </tr>\n",
       "    <tr>\n",
       "      <th>mean</th>\n",
       "      <td>3464.791531</td>\n",
       "    </tr>\n",
       "    <tr>\n",
       "      <th>std</th>\n",
       "      <td>1740.636238</td>\n",
       "    </tr>\n",
       "    <tr>\n",
       "      <th>min</th>\n",
       "      <td>700.000000</td>\n",
       "    </tr>\n",
       "    <tr>\n",
       "      <th>25%</th>\n",
       "      <td>2350.000000</td>\n",
       "    </tr>\n",
       "    <tr>\n",
       "      <th>50%</th>\n",
       "      <td>3000.000000</td>\n",
       "    </tr>\n",
       "    <tr>\n",
       "      <th>75%</th>\n",
       "      <td>4000.000000</td>\n",
       "    </tr>\n",
       "    <tr>\n",
       "      <th>max</th>\n",
       "      <td>15000.000000</td>\n",
       "    </tr>\n",
       "    <tr>\n",
       "      <th rowspan=\"8\" valign=\"top\">zs</th>\n",
       "      <th>count</th>\n",
       "      <td>837.000000</td>\n",
       "    </tr>\n",
       "    <tr>\n",
       "      <th>mean</th>\n",
       "      <td>2424.327360</td>\n",
       "    </tr>\n",
       "    <tr>\n",
       "      <th>std</th>\n",
       "      <td>1011.940355</td>\n",
       "    </tr>\n",
       "    <tr>\n",
       "      <th>min</th>\n",
       "      <td>650.000000</td>\n",
       "    </tr>\n",
       "    <tr>\n",
       "      <th>25%</th>\n",
       "      <td>1800.000000</td>\n",
       "    </tr>\n",
       "    <tr>\n",
       "      <th>50%</th>\n",
       "      <td>2300.000000</td>\n",
       "    </tr>\n",
       "    <tr>\n",
       "      <th>75%</th>\n",
       "      <td>2800.000000</td>\n",
       "    </tr>\n",
       "    <tr>\n",
       "      <th>max</th>\n",
       "      <td>8000.000000</td>\n",
       "    </tr>\n",
       "  </tbody>\n",
       "</table>\n",
       "<p>160 rows × 1 columns</p>\n",
       "</div>"
      ],
      "text/plain": [
       "                     价格\n",
       "bj count    3056.000000\n",
       "   mean     7030.881545\n",
       "   std      4672.566530\n",
       "   min      1000.000000\n",
       "   25%      4300.000000\n",
       "   50%      5800.000000\n",
       "   75%      8000.000000\n",
       "   max     50000.000000\n",
       "cd count    3000.000000\n",
       "   mean     2587.295333\n",
       "   std      1328.557994\n",
       "   min       400.000000\n",
       "   25%      1800.000000\n",
       "   50%      2300.000000\n",
       "   75%      3000.000000\n",
       "   max     18200.000000\n",
       "cq count    2733.000000\n",
       "   mean     3347.038053\n",
       "   std      4460.218931\n",
       "   min       400.000000\n",
       "   25%      1800.000000\n",
       "   50%      2500.000000\n",
       "   75%      3500.000000\n",
       "   max    168000.000000\n",
       "cs count    3000.000000\n",
       "   mean     2760.576667\n",
       "   std      2454.548208\n",
       "   min       700.000000\n",
       "   25%      1800.000000\n",
       "   50%      2400.000000\n",
       "...                 ...\n",
       "xm std      4255.989843\n",
       "   min       200.000000\n",
       "   25%      2300.000000\n",
       "   50%      3200.000000\n",
       "   75%      4800.000000\n",
       "   max     70000.000000\n",
       "yt count    3000.000000\n",
       "   mean     1910.557667\n",
       "   std      1316.940390\n",
       "   min       300.000000\n",
       "   25%      1300.000000\n",
       "   50%      1600.000000\n",
       "   75%      2100.000000\n",
       "   max     25000.000000\n",
       "zh count     307.000000\n",
       "   mean     3464.791531\n",
       "   std      1740.636238\n",
       "   min       700.000000\n",
       "   25%      2350.000000\n",
       "   50%      3000.000000\n",
       "   75%      4000.000000\n",
       "   max     15000.000000\n",
       "zs count     837.000000\n",
       "   mean     2424.327360\n",
       "   std      1011.940355\n",
       "   min       650.000000\n",
       "   25%      1800.000000\n",
       "   50%      2300.000000\n",
       "   75%      2800.000000\n",
       "   max      8000.000000\n",
       "\n",
       "[160 rows x 1 columns]"
      ]
     },
     "execution_count": 5,
     "metadata": {},
     "output_type": "execute_result"
    }
   ],
   "source": [
    "datas.groupby([datas.index]).describe()"
   ]
  },
  {
   "cell_type": "code",
   "execution_count": 6,
   "metadata": {
    "collapsed": true,
    "deletable": true,
    "editable": true
   },
   "outputs": [],
   "source": [
    "meanPrices = datas.groupby([datas.index]).mean()"
   ]
  },
  {
   "cell_type": "code",
   "execution_count": 7,
   "metadata": {
    "collapsed": false,
    "deletable": true,
    "editable": true
   },
   "outputs": [
    {
     "data": {
      "text/html": [
       "<div>\n",
       "<table border=\"1\" class=\"dataframe\">\n",
       "  <thead>\n",
       "    <tr style=\"text-align: right;\">\n",
       "      <th></th>\n",
       "      <th>价格</th>\n",
       "    </tr>\n",
       "  </thead>\n",
       "  <tbody>\n",
       "    <tr>\n",
       "      <th>bj</th>\n",
       "      <td>7030.881545</td>\n",
       "    </tr>\n",
       "    <tr>\n",
       "      <th>cd</th>\n",
       "      <td>2587.295333</td>\n",
       "    </tr>\n",
       "    <tr>\n",
       "      <th>cq</th>\n",
       "      <td>3347.038053</td>\n",
       "    </tr>\n",
       "    <tr>\n",
       "      <th>cs</th>\n",
       "      <td>2760.576667</td>\n",
       "    </tr>\n",
       "    <tr>\n",
       "      <th>dg</th>\n",
       "      <td>3279.602079</td>\n",
       "    </tr>\n",
       "    <tr>\n",
       "      <th>dl</th>\n",
       "      <td>2505.698333</td>\n",
       "    </tr>\n",
       "    <tr>\n",
       "      <th>fs</th>\n",
       "      <td>2991.564532</td>\n",
       "    </tr>\n",
       "    <tr>\n",
       "      <th>gz</th>\n",
       "      <td>4452.052000</td>\n",
       "    </tr>\n",
       "    <tr>\n",
       "      <th>hf</th>\n",
       "      <td>2172.155000</td>\n",
       "    </tr>\n",
       "    <tr>\n",
       "      <th>hz</th>\n",
       "      <td>5761.003631</td>\n",
       "    </tr>\n",
       "    <tr>\n",
       "      <th>jn</th>\n",
       "      <td>2683.326553</td>\n",
       "    </tr>\n",
       "    <tr>\n",
       "      <th>nj</th>\n",
       "      <td>3792.083433</td>\n",
       "    </tr>\n",
       "    <tr>\n",
       "      <th>qd</th>\n",
       "      <td>3216.876643</td>\n",
       "    </tr>\n",
       "    <tr>\n",
       "      <th>sz</th>\n",
       "      <td>6255.156000</td>\n",
       "    </tr>\n",
       "    <tr>\n",
       "      <th>tj</th>\n",
       "      <td>2817.978667</td>\n",
       "    </tr>\n",
       "    <tr>\n",
       "      <th>wh</th>\n",
       "      <td>3242.800000</td>\n",
       "    </tr>\n",
       "    <tr>\n",
       "      <th>xm</th>\n",
       "      <td>4060.688933</td>\n",
       "    </tr>\n",
       "    <tr>\n",
       "      <th>yt</th>\n",
       "      <td>1910.557667</td>\n",
       "    </tr>\n",
       "    <tr>\n",
       "      <th>zh</th>\n",
       "      <td>3464.791531</td>\n",
       "    </tr>\n",
       "    <tr>\n",
       "      <th>zs</th>\n",
       "      <td>2424.327360</td>\n",
       "    </tr>\n",
       "  </tbody>\n",
       "</table>\n",
       "</div>"
      ],
      "text/plain": [
       "             价格\n",
       "bj  7030.881545\n",
       "cd  2587.295333\n",
       "cq  3347.038053\n",
       "cs  2760.576667\n",
       "dg  3279.602079\n",
       "dl  2505.698333\n",
       "fs  2991.564532\n",
       "gz  4452.052000\n",
       "hf  2172.155000\n",
       "hz  5761.003631\n",
       "jn  2683.326553\n",
       "nj  3792.083433\n",
       "qd  3216.876643\n",
       "sz  6255.156000\n",
       "tj  2817.978667\n",
       "wh  3242.800000\n",
       "xm  4060.688933\n",
       "yt  1910.557667\n",
       "zh  3464.791531\n",
       "zs  2424.327360"
      ]
     },
     "execution_count": 7,
     "metadata": {},
     "output_type": "execute_result"
    }
   ],
   "source": [
    "meanPrices"
   ]
  },
  {
   "cell_type": "code",
   "execution_count": 8,
   "metadata": {
    "collapsed": true,
    "deletable": true,
    "editable": true
   },
   "outputs": [],
   "source": [
    "fig = plt.figure()\n",
    "plt.plot(meanPrices['价格'].values)\n",
    "plt.xlim(0, 20)\n",
    "plt.grid()\n",
    "num = 0\n",
    "for meanPrice in meanPrices.index:\n",
    "    plt.annotate(meanPrice,\n",
    "                 xy=(num, meanPrices['价格'].values[num]), xytext=(-20, 20), textcoords='offset points', ha='right', va='bottom',\n",
    "                 bbox=dict(boxstyle='round,pad=0.5', fc='yellow', alpha=0.5),\n",
    "                 arrowprops=dict(arrowstyle='->', facecolor='black', connectionstyle='arc3,rad=0'))\n",
    "    num += 1"
   ]
  },
  {
   "cell_type": "code",
   "execution_count": 9,
   "metadata": {
    "collapsed": false,
    "deletable": true,
    "editable": true
   },
   "outputs": [
    {
     "data": {
      "image/png": "[encoded data removed]",
      "text/plain": [
       "<matplotlib.figure.Figure at 0x7f0c96cdd320>"
      ]
     },
     "metadata": {},
     "output_type": "display_data"
    }
   ],
   "source": [
    "plt.show()"
   ]
  },
  {
   "cell_type": "code",
   "execution_count": 102,
   "metadata": {
    "collapsed": true,
    "deletable": true,
    "editable": true
   },
   "outputs": [],
   "source": [
    "import re"
   ]
  },
  {
   "cell_type": "code",
   "execution_count": 103,
   "metadata": {
    "collapsed": true
   },
   "outputs": [],
   "source": [
    "def areas(num):\n",
    "    return re.search('(.*?)平米', num).group(1)\n",
    "\n",
    "datas['areas'] = datas['面积'].apply(areas).astype(float)"
   ]
  },
  {
   "cell_type": "code",
   "execution_count": 104,
   "metadata": {
    "collapsed": false
   },
   "outputs": [
    {
     "data": {
      "text/plain": [
       "bj  count    3056.000000\n",
       "    mean       85.945690\n",
       "    std        37.133248\n",
       "    min        21.000000\n",
       "    25%        59.000000\n",
       "    50%        80.000000\n",
       "    75%       100.000000\n",
       "    max       441.000000\n",
       "cd  count    3000.000000\n",
       "    mean       84.755290\n",
       "    std        32.329542\n",
       "    min         7.000000\n",
       "    25%        62.000000\n",
       "    50%        83.475000\n",
       "    75%        95.832500\n",
       "    max       307.000000\n",
       "cq  count    2733.000000\n",
       "    mean       97.575847\n",
       "    std        73.030508\n",
       "    min        10.750000\n",
       "    25%        63.000000\n",
       "    50%        86.000000\n",
       "    75%       120.000000\n",
       "    max      2800.000000\n",
       "cs  count    3000.000000\n",
       "    mean       96.765597\n",
       "    std        50.455090\n",
       "    min        17.800000\n",
       "    25%        59.847500\n",
       "    50%        90.000000\n",
       "                ...     \n",
       "xm  std        58.199802\n",
       "    min         8.000000\n",
       "    25%        47.725000\n",
       "    50%        88.000000\n",
       "    75%       124.000000\n",
       "    max      1200.000000\n",
       "yt  count    3000.000000\n",
       "    mean       83.229997\n",
       "    std        36.010084\n",
       "    min         3.360000\n",
       "    25%        60.000000\n",
       "    50%        78.905000\n",
       "    75%        96.000000\n",
       "    max       380.000000\n",
       "zh  count     307.000000\n",
       "    mean       94.517362\n",
       "    std        44.725398\n",
       "    min        21.500000\n",
       "    25%        63.010000\n",
       "    50%        89.000000\n",
       "    75%       121.000000\n",
       "    max       277.000000\n",
       "zs  count     837.000000\n",
       "    mean      100.007384\n",
       "    std        34.314339\n",
       "    min        30.000000\n",
       "    25%        81.000000\n",
       "    50%        98.000000\n",
       "    75%       120.000000\n",
       "    max       270.180000\n",
       "Name: areas, dtype: float64"
      ]
     },
     "execution_count": 104,
     "metadata": {},
     "output_type": "execute_result"
    }
   ],
   "source": [
    "datas.groupby([datas.index])['areas'].describe()"
   ]
  },
  {
   "cell_type": "code",
   "execution_count": 105,
   "metadata": {
    "collapsed": true
   },
   "outputs": [],
   "source": [
    "meanAreas = datas.groupby([datas.index])['areas'].mean()"
   ]
  },
  {
   "cell_type": "code",
   "execution_count": 106,
   "metadata": {
    "collapsed": false
   },
   "outputs": [
    {
     "data": {
      "text/plain": [
       "bj     85.945690\n",
       "cd     84.755290\n",
       "cq     97.575847\n",
       "cs     96.765597\n",
       "dg    102.468922\n",
       "dl     71.846873\n",
       "fs    100.312025\n",
       "gz     81.809000\n",
       "hf     92.950737\n",
       "hz    104.663317\n",
       "jn     89.387580\n",
       "nj     87.244817\n",
       "qd     93.403853\n",
       "sz     82.307237\n",
       "tj     75.519670\n",
       "wh     93.082283\n",
       "xm     90.637873\n",
       "yt     83.229997\n",
       "zh     94.517362\n",
       "zs    100.007384\n",
       "Name: areas, dtype: float64"
      ]
     },
     "execution_count": 106,
     "metadata": {},
     "output_type": "execute_result"
    }
   ],
   "source": [
    "meanAreas"
   ]
  },
  {
   "cell_type": "code",
   "execution_count": 107,
   "metadata": {
    "collapsed": true
   },
   "outputs": [],
   "source": [
    "fig = plt.figure()"
   ]
  },
  {
   "cell_type": "code",
   "execution_count": 108,
   "metadata": {
    "collapsed": false
   },
   "outputs": [
    {
     "data": {
      "text/plain": [
       "[<matplotlib.lines.Line2D at 0x7fdda7ce72b0>]"
      ]
     },
     "execution_count": 108,
     "metadata": {},
     "output_type": "execute_result"
    }
   ],
   "source": [
    "plt.plot(meanAreas.values)"
   ]
  },
  {
   "cell_type": "code",
   "execution_count": 109,
   "metadata": {
    "collapsed": true
   },
   "outputs": [],
   "source": [
    "plt.xlim(0, 20)\n",
    "plt.grid()\n",
    "num = 0"
   ]
  },
  {
   "cell_type": "code",
   "execution_count": 110,
   "metadata": {
    "collapsed": true
   },
   "outputs": [],
   "source": [
    "for index in meanPrices.index:\n",
    "    plt.annotate(index,\n",
    "                 xy=(num, meanAreas[num]), xytext=(-20, 20), textcoords='offset points', ha='right', va='bottom',\n",
    "                 bbox=dict(boxstyle='round,pad=0.5', fc='yellow', alpha=0.5),\n",
    "                 arrowprops=dict(arrowstyle='->', facecolor='black', connectionstyle='arc3,rad=0'))\n",
    "    num += 1"
   ]
  },
  {
   "cell_type": "code",
   "execution_count": 111,
   "metadata": {
    "collapsed": false
   },
   "outputs": [
    {
     "data": {
      "image/png": "[encoded data removed]",
      "text/plain": [
       "<matplotlib.figure.Figure at 0x7fdda851c5c0>"
      ]
     },
     "metadata": {},
     "output_type": "display_data"
    }
   ],
   "source": [
    "plt.show()"
   ]
  },
  {
   "cell_type": "code",
   "execution_count": null,
   "metadata": {
    "collapsed": true
   },
   "outputs": [],
   "source": []
  }
 ],
 "metadata": {
  "kernelspec": {
   "display_name": "Python 3",
   "language": "python",
   "name": "python3"
  },
  "language_info": {
   "codemirror_mode": {
    "name": "ipython",
    "version": 3
   },
   "file_extension": ".py",
   "mimetype": "text/x-python",
   "name": "python",
   "nbconvert_exporter": "python",
   "pygments_lexer": "ipython3",
   "version": "3.5.2"
  }
 },
 "nbformat": 4,
 "nbformat_minor": 2
}
